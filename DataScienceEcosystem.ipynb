{
 "cells": [
  {
   "cell_type": "markdown",
   "id": "974fc474-54a2-47e1-9204-c83189d4b9b7",
   "metadata": {},
   "source": [
    "# Data Science Tools and Ecosystem"
   ]
  },
  {
   "cell_type": "markdown",
   "id": "e87ae415-cf25-4d72-8f1d-0ac2c6730fc2",
   "metadata": {},
   "source": [
    "## In this notebook, Data Science Tools and Ecosystem are summarized."
   ]
  },
  {
   "cell_type": "markdown",
   "id": "9f7a9995-f2eb-4fcc-8d4d-331251a6c99e",
   "metadata": {
    "tags": []
   },
   "source": [
    "# Some of the popular languages that Data Scientists use are:\n",
    "\n",
    "ordered_list = [\"Python\", \"Java\", \"R\"]"
   ]
  },
  {
   "cell_type": "markdown",
   "id": "7e448463-8995-45a0-b922-c04c2505adf2",
   "metadata": {
    "tags": []
   },
   "source": [
    "# Some of the commonly used libraries used by Data Scientists include:\n",
    "\n",
    "my_list = [\"Numpy\",\"Pandas\",\"Matplotlib\"]"
   ]
  },
  {
   "cell_type": "markdown",
   "id": "82503d0b-ad37-437f-a797-0e9a89b8c45b",
   "metadata": {
    "tags": []
   },
   "source": [
    "# Data Science Tools\n",
    "\n",
    "| Data Science Tools |\n",
    "| ------------------ |\n",
    "| Jupyter Notebook   |\n",
    "| GitHub |\n",
    "| IBM Watson Studio | "
   ]
  },
  {
   "cell_type": "markdown",
   "id": "2f1f27cc-1765-4183-8897-b31dd1d7e86c",
   "metadata": {
    "tags": []
   },
   "source": [
    "# Below are a few examples of evaluating arithmetic expressions in Python\n",
    "\n",
    "a = 1, b = 3\n",
    "\n",
    "b - a,\n",
    "a + b,\n",
    "a / b,\n",
    "a * b"
   ]
  },
  {
   "cell_type": "code",
   "execution_count": 15,
   "id": "b0d917fb-6f3d-4109-9905-ceac1549a78d",
   "metadata": {
    "tags": []
   },
   "outputs": [
    {
     "data": {
      "text/plain": [
       "17"
      ]
     },
     "execution_count": 15,
     "metadata": {},
     "output_type": "execute_result"
    }
   ],
   "source": [
    "# This a simple arithmetic expression to mutiply then add integers\\\n",
    "\n",
    "(3*4)+5"
   ]
  },
  {
   "cell_type": "code",
   "execution_count": 16,
   "id": "f79f71fb-586c-4c84-b714-448a8d22ccf7",
   "metadata": {
    "tags": []
   },
   "outputs": [
    {
     "name": "stdout",
     "output_type": "stream",
     "text": [
      "3\n"
     ]
    }
   ],
   "source": [
    "# This will convert 200 minutes to hours by diving by 60\n",
    "minutes = 200\n",
    "hours = 200//60\n",
    "print(hours)"
   ]
  },
  {
   "cell_type": "markdown",
   "id": "54bee0fc-454c-4b1e-bd7f-be68ec11669d",
   "metadata": {
    "tags": []
   },
   "source": [
    "# Objectives\n",
    "\n",
    "- Python\n",
    "- Scala\n",
    "- Java\n",
    "- R"
   ]
  },
  {
   "cell_type": "markdown",
   "id": "379763e2-7861-4d09-960d-0bb79689d6bf",
   "metadata": {},
   "source": [
    "## Author\n",
    "Vigna Ramtej Telagarapu"
   ]
  }
 ],
 "metadata": {
  "kernelspec": {
   "display_name": "Python",
   "language": "python",
   "name": "conda-env-python-py"
  },
  "language_info": {
   "codemirror_mode": {
    "name": "ipython",
    "version": 3
   },
   "file_extension": ".py",
   "mimetype": "text/x-python",
   "name": "python",
   "nbconvert_exporter": "python",
   "pygments_lexer": "ipython3",
   "version": "3.7.12"
  }
 },
 "nbformat": 4,
 "nbformat_minor": 5
}
